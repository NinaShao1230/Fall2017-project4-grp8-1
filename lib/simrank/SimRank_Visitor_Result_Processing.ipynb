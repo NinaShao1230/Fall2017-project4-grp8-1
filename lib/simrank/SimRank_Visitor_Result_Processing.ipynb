{
 "cells": [
  {
   "cell_type": "code",
   "execution_count": 17,
   "metadata": {
    "collapsed": true
   },
   "outputs": [],
   "source": [
    "import pandas as pd\n",
    "import numpy as np"
   ]
  },
  {
   "cell_type": "code",
   "execution_count": 18,
   "metadata": {
    "collapsed": true
   },
   "outputs": [],
   "source": [
    "df = pd.read_csv('/Users/ninashao/Downloads/data_sample/MS_sample/nodesim_naive.txt', sep=\",\",header = None,names = [\"node1\", \"node2\", \"simrank\"])\n",
    "df['node1']= df['node1'].astype(int).astype(str)\n",
    "df['node2']= df['node2'].astype(int).astype(str)"
   ]
  },
  {
   "cell_type": "code",
   "execution_count": 20,
   "metadata": {
    "collapsed": true
   },
   "outputs": [],
   "source": [
    "df_vistor = df[df['node1'].str.len() == 5]\n",
    "df_vistor_simrank = df_vistor.pivot(index='node1', columns='node2', values='simrank')"
   ]
  },
  {
   "cell_type": "code",
   "execution_count": 21,
   "metadata": {
    "collapsed": true
   },
   "outputs": [],
   "source": [
    "df_vistor_simrank = df_vistor_simrank.fillna(1)"
   ]
  },
  {
   "cell_type": "code",
   "execution_count": 23,
   "metadata": {
    "collapsed": true
   },
   "outputs": [],
   "source": [
    "df_vistor_simrank.to_csv('/Users/ninashao/Downloads/data_sample/MS_sample/vistor_simrank_new.csv')"
   ]
  }
 ],
 "metadata": {
  "kernelspec": {
   "display_name": "Python 3",
   "language": "python",
   "name": "python3"
  },
  "language_info": {
   "codemirror_mode": {
    "name": "ipython",
    "version": 3
   },
   "file_extension": ".py",
   "mimetype": "text/x-python",
   "name": "python",
   "nbconvert_exporter": "python",
   "pygments_lexer": "ipython3",
   "version": "3.5.4"
  }
 },
 "nbformat": 4,
 "nbformat_minor": 2
}
