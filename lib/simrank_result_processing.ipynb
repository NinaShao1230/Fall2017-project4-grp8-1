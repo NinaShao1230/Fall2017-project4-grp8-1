{
 "cells": [
  {
   "cell_type": "code",
   "execution_count": 23,
   "metadata": {},
   "outputs": [],
   "source": [
    "import pandas as pd\n",
    "import numpy as np"
   ]
  },
  {
   "cell_type": "code",
   "execution_count": 69,
   "metadata": {
    "collapsed": true
   },
   "outputs": [],
   "source": [
    "data = pd.read_csv('/Users/ninashao/Downloads/data_sample/MS_sample/nodesim_naive.txt', sep=\",\",header = None,names = [\"node1\", \"node2\", \"simrank\"])\n",
    "df = data.astype(float)\n",
    "conditions = [df['node1'] < df['node2'], df['node1'] > df['node2']]\n",
    "choices = [df['node1'], df['node2']]\n",
    "choices2 = [df['node2'], df['node1']]\n",
    "df['one'] = np.select(conditions, choices)\n",
    "df['two'] = np.select(conditions, choices2)\n",
    "df = df.drop_duplicates(subset=['one','two'], keep='first', inplace=False)\n",
    "df['one']= df['one'].astype(int).astype(str)\n",
    "df['two']= df['two'].astype(int).astype(str)\n",
    "df.drop('node1', axis=1, inplace=True)\n",
    "df.drop('node2', axis=1, inplace=True)"
   ]
  },
  {
   "cell_type": "code",
   "execution_count": 77,
   "metadata": {
    "collapsed": true
   },
   "outputs": [],
   "source": [
    "df_vistor = df[df['one'].str.len() == 5]\n",
    "df_vistor_simrank = df_vistor.pivot(index='one', columns='two', values='simrank')\n",
    "df_vistor_simrank = df_vistor_simrank.fillna(0)"
   ]
  },
  {
   "cell_type": "code",
   "execution_count": 78,
   "metadata": {
    "collapsed": true
   },
   "outputs": [],
   "source": [
    "df_web = df[df['one'].str.len() == 4]\n",
    "df_web_simrank = df_web.pivot(index='one', columns='two', values='simrank')\n",
    "df_web_simrank = df_web_simrank.fillna(0)"
   ]
  },
  {
   "cell_type": "code",
   "execution_count": 79,
   "metadata": {
    "collapsed": true
   },
   "outputs": [],
   "source": [
    "df_vistor_simrank.to_csv('/Users/ninashao/Downloads/data_sample/MS_sample/vistor_simrank.csv', sep='\\t', encoding='utf-8')\n",
    "df_web_simrank.to_csv('/Users/ninashao/Downloads/data_sample/MS_sample/web_simrank.csv', sep='\\t', encoding='utf-8')"
   ]
  }
 ],
 "metadata": {
  "kernelspec": {
   "display_name": "Python 3",
   "language": "python",
   "name": "python3"
  },
  "language_info": {
   "codemirror_mode": {
    "name": "ipython",
    "version": 3
   },
   "file_extension": ".py",
   "mimetype": "text/x-python",
   "name": "python",
   "nbconvert_exporter": "python",
   "pygments_lexer": "ipython3",
   "version": "3.5.4"
  }
 },
 "nbformat": 4,
 "nbformat_minor": 2
}
